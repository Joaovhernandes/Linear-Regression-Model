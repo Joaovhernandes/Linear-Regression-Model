{
 "cells": [
  {
   "cell_type": "markdown",
   "id": "d75f68ac",
   "metadata": {},
   "source": [
    "# Imports"
   ]
  },
  {
   "cell_type": "code",
   "execution_count": 46,
   "id": "2b22fa09",
   "metadata": {},
   "outputs": [],
   "source": [
    "import pandas as pd\n",
    "import seaborn as sns\n",
    "import numpy as np\n",
    "import matplotlib.pyplot as plt\n",
    "import pickle\n",
    "import requests\n",
    "\n",
    "from sklearn import metrics as m\n",
    "from sklearn import linear_model as lm\n",
    "from sklearn import model_selection as ms"
   ]
  },
  {
   "cell_type": "markdown",
   "id": "9e5ffd93",
   "metadata": {},
   "source": [
    "# Functions "
   ]
  },
  {
   "cell_type": "code",
   "execution_count": 47,
   "id": "749bef94",
   "metadata": {},
   "outputs": [],
   "source": [
    "def drop_outliers_LI (quant):\n",
    "    Q1 = quant.quantile(0.25)\n",
    "    Q3 = quant.quantile(0.75)\n",
    "    \n",
    "    LI = Q1 - (1.5*(Q3-Q1))\n",
    "    \n",
    "    \n",
    "    return LI\n",
    "\n",
    "\n",
    "def drop_outliers_LS (quant):\n",
    "    Q1 = quant.quantile(0.25)\n",
    "    Q3 = quant.quantile(0.75)\n",
    "    \n",
    "    LS = Q1 + (1.5*(Q3-Q1))\n",
    "   \n",
    "    return LS\n",
    "\n",
    "def heat_map(inform):\n",
    "    \n",
    "    correlation = inform.corr()\n",
    "    f, ax = plt.subplots(figsize=(10, 6))\n",
    "    return sns.heatmap(correlation,cmap=\"YlGnBu\", fmt='.2f', square='true', linecolor='white', linewidths=.5, ax=ax, annot=True);"
   ]
  },
  {
   "cell_type": "markdown",
   "id": "81372dba",
   "metadata": {},
   "source": [
    "# Loading Data "
   ]
  },
  {
   "cell_type": "code",
   "execution_count": 48,
   "id": "ad7f4afd",
   "metadata": {},
   "outputs": [],
   "source": [
    "data = pd.read_csv('C:/Users/jvito/Repos - Python/datasets/Car_Purchasing_Data.csv')"
   ]
  },
  {
   "cell_type": "markdown",
   "id": "7095a199",
   "metadata": {},
   "source": [
    "## Exploratory Data Analysis"
   ]
  },
  {
   "cell_type": "code",
   "execution_count": 49,
   "id": "f03e47ed",
   "metadata": {},
   "outputs": [
    {
     "data": {
      "text/html": [
       "<div>\n",
       "<style scoped>\n",
       "    .dataframe tbody tr th:only-of-type {\n",
       "        vertical-align: middle;\n",
       "    }\n",
       "\n",
       "    .dataframe tbody tr th {\n",
       "        vertical-align: top;\n",
       "    }\n",
       "\n",
       "    .dataframe thead th {\n",
       "        text-align: right;\n",
       "    }\n",
       "</style>\n",
       "<table border=\"1\" class=\"dataframe\">\n",
       "  <thead>\n",
       "    <tr style=\"text-align: right;\">\n",
       "      <th></th>\n",
       "      <th>Customer Name</th>\n",
       "      <th>Customer e-mail</th>\n",
       "      <th>Country</th>\n",
       "      <th>Gender</th>\n",
       "      <th>Age</th>\n",
       "      <th>Annual Salary</th>\n",
       "      <th>Credit Card Debt</th>\n",
       "      <th>Net Worth</th>\n",
       "      <th>Car Purchase Amount</th>\n",
       "    </tr>\n",
       "  </thead>\n",
       "  <tbody>\n",
       "    <tr>\n",
       "      <th>0</th>\n",
       "      <td>Martina Avila</td>\n",
       "      <td>cubilia.Curae.Phasellus@quisaccumsanconvallis.edu</td>\n",
       "      <td>USA</td>\n",
       "      <td>0</td>\n",
       "      <td>42</td>\n",
       "      <td>62812.09301</td>\n",
       "      <td>11609.380910</td>\n",
       "      <td>238961.2505</td>\n",
       "      <td>35321.45877</td>\n",
       "    </tr>\n",
       "    <tr>\n",
       "      <th>1</th>\n",
       "      <td>Harlan Barnes</td>\n",
       "      <td>eu.dolor@diam.co.uk</td>\n",
       "      <td>USA</td>\n",
       "      <td>0</td>\n",
       "      <td>41</td>\n",
       "      <td>66646.89292</td>\n",
       "      <td>9572.957136</td>\n",
       "      <td>530973.9078</td>\n",
       "      <td>45115.52566</td>\n",
       "    </tr>\n",
       "    <tr>\n",
       "      <th>2</th>\n",
       "      <td>Naomi Rodriquez</td>\n",
       "      <td>vulputate.mauris.sagittis@ametconsectetueradip...</td>\n",
       "      <td>USA</td>\n",
       "      <td>1</td>\n",
       "      <td>43</td>\n",
       "      <td>53798.55112</td>\n",
       "      <td>11160.355060</td>\n",
       "      <td>638467.1773</td>\n",
       "      <td>42925.70921</td>\n",
       "    </tr>\n",
       "    <tr>\n",
       "      <th>3</th>\n",
       "      <td>Jade Cunningham</td>\n",
       "      <td>malesuada@dignissim.com</td>\n",
       "      <td>USA</td>\n",
       "      <td>1</td>\n",
       "      <td>58</td>\n",
       "      <td>79370.03798</td>\n",
       "      <td>14426.164850</td>\n",
       "      <td>548599.0524</td>\n",
       "      <td>67422.36313</td>\n",
       "    </tr>\n",
       "    <tr>\n",
       "      <th>4</th>\n",
       "      <td>Cedric Leach</td>\n",
       "      <td>felis.ullamcorper.viverra@egetmollislectus.net</td>\n",
       "      <td>USA</td>\n",
       "      <td>1</td>\n",
       "      <td>57</td>\n",
       "      <td>59729.15130</td>\n",
       "      <td>5358.712177</td>\n",
       "      <td>560304.0671</td>\n",
       "      <td>55915.46248</td>\n",
       "    </tr>\n",
       "  </tbody>\n",
       "</table>\n",
       "</div>"
      ],
      "text/plain": [
       "     Customer Name                                    Customer e-mail Country  \\\n",
       "0    Martina Avila  cubilia.Curae.Phasellus@quisaccumsanconvallis.edu     USA   \n",
       "1    Harlan Barnes                                eu.dolor@diam.co.uk     USA   \n",
       "2  Naomi Rodriquez  vulputate.mauris.sagittis@ametconsectetueradip...     USA   \n",
       "3  Jade Cunningham                            malesuada@dignissim.com     USA   \n",
       "4     Cedric Leach     felis.ullamcorper.viverra@egetmollislectus.net     USA   \n",
       "\n",
       "   Gender  Age  Annual Salary  Credit Card Debt    Net Worth  \\\n",
       "0       0   42    62812.09301      11609.380910  238961.2505   \n",
       "1       0   41    66646.89292       9572.957136  530973.9078   \n",
       "2       1   43    53798.55112      11160.355060  638467.1773   \n",
       "3       1   58    79370.03798      14426.164850  548599.0524   \n",
       "4       1   57    59729.15130       5358.712177  560304.0671   \n",
       "\n",
       "   Car Purchase Amount  \n",
       "0          35321.45877  \n",
       "1          45115.52566  \n",
       "2          42925.70921  \n",
       "3          67422.36313  \n",
       "4          55915.46248  "
      ]
     },
     "execution_count": 49,
     "metadata": {},
     "output_type": "execute_result"
    }
   ],
   "source": [
    "data.head()"
   ]
  },
  {
   "cell_type": "code",
   "execution_count": 50,
   "id": "ca6febce",
   "metadata": {},
   "outputs": [
    {
     "data": {
      "text/plain": [
       "Customer Name           object\n",
       "Customer e-mail         object\n",
       "Country                 object\n",
       "Gender                   int64\n",
       "Age                      int64\n",
       "Annual Salary          float64\n",
       "Credit Card Debt       float64\n",
       "Net Worth              float64\n",
       "Car Purchase Amount    float64\n",
       "dtype: object"
      ]
     },
     "execution_count": 50,
     "metadata": {},
     "output_type": "execute_result"
    }
   ],
   "source": [
    "data.dtypes"
   ]
  },
  {
   "cell_type": "code",
   "execution_count": 51,
   "id": "5442b65b",
   "metadata": {},
   "outputs": [],
   "source": [
    "data.columns = data.columns.str.replace(' ', '_')"
   ]
  },
  {
   "cell_type": "code",
   "execution_count": 52,
   "id": "25106ba2",
   "metadata": {},
   "outputs": [
    {
     "data": {
      "text/plain": [
       "Customer_Name          0.0\n",
       "Customer_e-mail        0.0\n",
       "Country                0.0\n",
       "Gender                 0.0\n",
       "Age                    0.0\n",
       "Annual_Salary          0.0\n",
       "Credit_Card_Debt       0.0\n",
       "Net_Worth              0.0\n",
       "Car_Purchase_Amount    0.0\n",
       "dtype: float64"
      ]
     },
     "execution_count": 52,
     "metadata": {},
     "output_type": "execute_result"
    }
   ],
   "source": [
    "(data.isnull().sum()/data.shape[0]).sort_values(ascending=False)"
   ]
  },
  {
   "cell_type": "markdown",
   "id": "e1a0691f",
   "metadata": {},
   "source": [
    "Observa-se que não há dados faltantes da base de dados."
   ]
  },
  {
   "cell_type": "code",
   "execution_count": 53,
   "id": "4c7ad4fc",
   "metadata": {},
   "outputs": [
    {
     "data": {
      "image/png": "[encoded data removed]",
      "text/plain": [
       "<Figure size 1080x1080 with 6 Axes>"
      ]
     },
     "metadata": {
      "needs_background": "light"
     },
     "output_type": "display_data"
    }
   ],
   "source": [
    "data[['Age', 'Annual_Salary', 'Credit_Card_Debt', 'Net_Worth', 'Car_Purchase_Amount']].hist(figsize=(15, 15));"
   ]
  },
  {
   "cell_type": "markdown",
   "id": "bbd3294f",
   "metadata": {},
   "source": [
    "As variáveis seguem uma distribuição normal, sendo adequadas para o uso do modelo."
   ]
  },
  {
   "cell_type": "code",
   "execution_count": 54,
   "id": "1aeb03e4",
   "metadata": {
    "scrolled": true
   },
   "outputs": [
    {
     "data": {
      "text/html": [
       "<div>\n",
       "<style scoped>\n",
       "    .dataframe tbody tr th:only-of-type {\n",
       "        vertical-align: middle;\n",
       "    }\n",
       "\n",
       "    .dataframe tbody tr th {\n",
       "        vertical-align: top;\n",
       "    }\n",
       "\n",
       "    .dataframe thead th {\n",
       "        text-align: right;\n",
       "    }\n",
       "</style>\n",
       "<table border=\"1\" class=\"dataframe\">\n",
       "  <thead>\n",
       "    <tr style=\"text-align: right;\">\n",
       "      <th></th>\n",
       "      <th>Gender</th>\n",
       "      <th>Age</th>\n",
       "      <th>Annual_Salary</th>\n",
       "      <th>Credit_Card_Debt</th>\n",
       "      <th>Net_Worth</th>\n",
       "      <th>Car_Purchase_Amount</th>\n",
       "    </tr>\n",
       "  </thead>\n",
       "  <tbody>\n",
       "    <tr>\n",
       "      <th>count</th>\n",
       "      <td>500.000000</td>\n",
       "      <td>500.000000</td>\n",
       "      <td>500.000000</td>\n",
       "      <td>500.000000</td>\n",
       "      <td>500.000000</td>\n",
       "      <td>500.000000</td>\n",
       "    </tr>\n",
       "    <tr>\n",
       "      <th>mean</th>\n",
       "      <td>0.506000</td>\n",
       "      <td>46.224000</td>\n",
       "      <td>62127.239608</td>\n",
       "      <td>9607.645049</td>\n",
       "      <td>431475.713625</td>\n",
       "      <td>44209.799218</td>\n",
       "    </tr>\n",
       "    <tr>\n",
       "      <th>std</th>\n",
       "      <td>0.500465</td>\n",
       "      <td>7.990339</td>\n",
       "      <td>11703.378228</td>\n",
       "      <td>3489.187973</td>\n",
       "      <td>173536.756340</td>\n",
       "      <td>10773.178744</td>\n",
       "    </tr>\n",
       "    <tr>\n",
       "      <th>min</th>\n",
       "      <td>0.000000</td>\n",
       "      <td>20.000000</td>\n",
       "      <td>20000.000000</td>\n",
       "      <td>100.000000</td>\n",
       "      <td>20000.000000</td>\n",
       "      <td>9000.000000</td>\n",
       "    </tr>\n",
       "    <tr>\n",
       "      <th>25%</th>\n",
       "      <td>0.000000</td>\n",
       "      <td>41.000000</td>\n",
       "      <td>54391.977195</td>\n",
       "      <td>7397.515792</td>\n",
       "      <td>299824.195900</td>\n",
       "      <td>37629.896040</td>\n",
       "    </tr>\n",
       "    <tr>\n",
       "      <th>50%</th>\n",
       "      <td>1.000000</td>\n",
       "      <td>46.000000</td>\n",
       "      <td>62915.497035</td>\n",
       "      <td>9655.035568</td>\n",
       "      <td>426750.120650</td>\n",
       "      <td>43997.783390</td>\n",
       "    </tr>\n",
       "    <tr>\n",
       "      <th>75%</th>\n",
       "      <td>1.000000</td>\n",
       "      <td>52.000000</td>\n",
       "      <td>70117.862005</td>\n",
       "      <td>11798.867487</td>\n",
       "      <td>557324.478725</td>\n",
       "      <td>51254.709517</td>\n",
       "    </tr>\n",
       "    <tr>\n",
       "      <th>max</th>\n",
       "      <td>1.000000</td>\n",
       "      <td>70.000000</td>\n",
       "      <td>100000.000000</td>\n",
       "      <td>20000.000000</td>\n",
       "      <td>1000000.000000</td>\n",
       "      <td>80000.000000</td>\n",
       "    </tr>\n",
       "  </tbody>\n",
       "</table>\n",
       "</div>"
      ],
      "text/plain": [
       "           Gender         Age  Annual_Salary  Credit_Card_Debt  \\\n",
       "count  500.000000  500.000000     500.000000        500.000000   \n",
       "mean     0.506000   46.224000   62127.239608       9607.645049   \n",
       "std      0.500465    7.990339   11703.378228       3489.187973   \n",
       "min      0.000000   20.000000   20000.000000        100.000000   \n",
       "25%      0.000000   41.000000   54391.977195       7397.515792   \n",
       "50%      1.000000   46.000000   62915.497035       9655.035568   \n",
       "75%      1.000000   52.000000   70117.862005      11798.867487   \n",
       "max      1.000000   70.000000  100000.000000      20000.000000   \n",
       "\n",
       "            Net_Worth  Car_Purchase_Amount  \n",
       "count      500.000000           500.000000  \n",
       "mean    431475.713625         44209.799218  \n",
       "std     173536.756340         10773.178744  \n",
       "min      20000.000000          9000.000000  \n",
       "25%     299824.195900         37629.896040  \n",
       "50%     426750.120650         43997.783390  \n",
       "75%     557324.478725         51254.709517  \n",
       "max    1000000.000000         80000.000000  "
      ]
     },
     "execution_count": 54,
     "metadata": {},
     "output_type": "execute_result"
    }
   ],
   "source": [
    "data.describe()"
   ]
  },
  {
   "cell_type": "code",
   "execution_count": 55,
   "id": "5e89fda8",
   "metadata": {},
   "outputs": [
    {
     "data": {
      "image/png": "[encoded data removed]",
      "text/plain": [
       "<Figure size 720x720 with 1 Axes>"
      ]
     },
     "metadata": {
      "needs_background": "light"
     },
     "output_type": "display_data"
    }
   ],
   "source": [
    "data[['Age']].boxplot(figsize=(10,10));"
   ]
  },
  {
   "cell_type": "code",
   "execution_count": 56,
   "id": "c7d104f2",
   "metadata": {},
   "outputs": [
    {
     "data": {
      "image/png": "[encoded data removed]",
      "text/plain": [
       "<Figure size 720x720 with 1 Axes>"
      ]
     },
     "metadata": {
      "needs_background": "light"
     },
     "output_type": "display_data"
    }
   ],
   "source": [
    "data[['Annual_Salary']].boxplot(figsize=(10,10));"
   ]
  },
  {
   "cell_type": "code",
   "execution_count": 57,
   "id": "261f85e0",
   "metadata": {},
   "outputs": [
    {
     "data": {
      "image/png": "[encoded data removed]",
      "text/plain": [
       "<Figure size 720x720 with 1 Axes>"
      ]
     },
     "metadata": {
      "needs_background": "light"
     },
     "output_type": "display_data"
    }
   ],
   "source": [
    "data[['Credit_Card_Debt']].boxplot(figsize=(10,10));"
   ]
  },
  {
   "cell_type": "code",
   "execution_count": 58,
   "id": "377eb219",
   "metadata": {},
   "outputs": [
    {
     "data": {
      "image/png": "[encoded data removed]",
      "text/plain": [
       "<Figure size 720x720 with 1 Axes>"
      ]
     },
     "metadata": {
      "needs_background": "light"
     },
     "output_type": "display_data"
    }
   ],
   "source": [
    "data[['Net_Worth']].boxplot(figsize=(10,10));"
   ]
  },
  {
   "cell_type": "code",
   "execution_count": 59,
   "id": "bbf99f57",
   "metadata": {
    "scrolled": false
   },
   "outputs": [
    {
     "data": {
      "image/png": "[encoded data removed]",
      "text/plain": [
       "<Figure size 720x720 with 1 Axes>"
      ]
     },
     "metadata": {
      "needs_background": "light"
     },
     "output_type": "display_data"
    }
   ],
   "source": [
    "data[['Car_Purchase_Amount']].boxplot(figsize=(10,10));"
   ]
  },
  {
   "cell_type": "markdown",
   "id": "a6b2a7c3",
   "metadata": {},
   "source": [
    "Observou-se a presença de outliers, que por sua vez, deverão ser removidos para garantir a melhor adequação do modelo."
   ]
  },
  {
   "cell_type": "markdown",
   "id": "08d951d5",
   "metadata": {},
   "source": [
    "### Drop Outliers"
   ]
  },
  {
   "cell_type": "code",
   "execution_count": 60,
   "id": "9caedf6f",
   "metadata": {},
   "outputs": [
    {
     "data": {
      "text/plain": [
       "(500, 9)"
      ]
     },
     "execution_count": 60,
     "metadata": {},
     "output_type": "execute_result"
    }
   ],
   "source": [
    "df = data.copy()\n",
    "df.shape"
   ]
  },
  {
   "cell_type": "code",
   "execution_count": 61,
   "id": "9de20afb",
   "metadata": {},
   "outputs": [
    {
     "data": {
      "text/html": [
       "<div>\n",
       "<style scoped>\n",
       "    .dataframe tbody tr th:only-of-type {\n",
       "        vertical-align: middle;\n",
       "    }\n",
       "\n",
       "    .dataframe tbody tr th {\n",
       "        vertical-align: top;\n",
       "    }\n",
       "\n",
       "    .dataframe thead th {\n",
       "        text-align: right;\n",
       "    }\n",
       "</style>\n",
       "<table border=\"1\" class=\"dataframe\">\n",
       "  <thead>\n",
       "    <tr style=\"text-align: right;\">\n",
       "      <th></th>\n",
       "      <th>Customer_Name</th>\n",
       "      <th>Customer_e-mail</th>\n",
       "      <th>Country</th>\n",
       "      <th>Gender</th>\n",
       "      <th>Age</th>\n",
       "      <th>Annual_Salary</th>\n",
       "      <th>Credit_Card_Debt</th>\n",
       "      <th>Net_Worth</th>\n",
       "      <th>Car_Purchase_Amount</th>\n",
       "    </tr>\n",
       "  </thead>\n",
       "  <tbody>\n",
       "    <tr>\n",
       "      <th>0</th>\n",
       "      <td>Martina Avila</td>\n",
       "      <td>cubilia.Curae.Phasellus@quisaccumsanconvallis.edu</td>\n",
       "      <td>USA</td>\n",
       "      <td>0</td>\n",
       "      <td>42</td>\n",
       "      <td>62812.09301</td>\n",
       "      <td>11609.380910</td>\n",
       "      <td>238961.2505</td>\n",
       "      <td>35321.45877</td>\n",
       "    </tr>\n",
       "    <tr>\n",
       "      <th>1</th>\n",
       "      <td>Harlan Barnes</td>\n",
       "      <td>eu.dolor@diam.co.uk</td>\n",
       "      <td>USA</td>\n",
       "      <td>0</td>\n",
       "      <td>41</td>\n",
       "      <td>66646.89292</td>\n",
       "      <td>9572.957136</td>\n",
       "      <td>530973.9078</td>\n",
       "      <td>45115.52566</td>\n",
       "    </tr>\n",
       "    <tr>\n",
       "      <th>2</th>\n",
       "      <td>Naomi Rodriquez</td>\n",
       "      <td>vulputate.mauris.sagittis@ametconsectetueradip...</td>\n",
       "      <td>USA</td>\n",
       "      <td>1</td>\n",
       "      <td>43</td>\n",
       "      <td>53798.55112</td>\n",
       "      <td>11160.355060</td>\n",
       "      <td>638467.1773</td>\n",
       "      <td>42925.70921</td>\n",
       "    </tr>\n",
       "    <tr>\n",
       "      <th>3</th>\n",
       "      <td>Jade Cunningham</td>\n",
       "      <td>malesuada@dignissim.com</td>\n",
       "      <td>USA</td>\n",
       "      <td>1</td>\n",
       "      <td>58</td>\n",
       "      <td>79370.03798</td>\n",
       "      <td>14426.164850</td>\n",
       "      <td>548599.0524</td>\n",
       "      <td>67422.36313</td>\n",
       "    </tr>\n",
       "    <tr>\n",
       "      <th>4</th>\n",
       "      <td>Cedric Leach</td>\n",
       "      <td>felis.ullamcorper.viverra@egetmollislectus.net</td>\n",
       "      <td>USA</td>\n",
       "      <td>1</td>\n",
       "      <td>57</td>\n",
       "      <td>59729.15130</td>\n",
       "      <td>5358.712177</td>\n",
       "      <td>560304.0671</td>\n",
       "      <td>55915.46248</td>\n",
       "    </tr>\n",
       "  </tbody>\n",
       "</table>\n",
       "</div>"
      ],
      "text/plain": [
       "     Customer_Name                                    Customer_e-mail Country  \\\n",
       "0    Martina Avila  cubilia.Curae.Phasellus@quisaccumsanconvallis.edu     USA   \n",
       "1    Harlan Barnes                                eu.dolor@diam.co.uk     USA   \n",
       "2  Naomi Rodriquez  vulputate.mauris.sagittis@ametconsectetueradip...     USA   \n",
       "3  Jade Cunningham                            malesuada@dignissim.com     USA   \n",
       "4     Cedric Leach     felis.ullamcorper.viverra@egetmollislectus.net     USA   \n",
       "\n",
       "   Gender  Age  Annual_Salary  Credit_Card_Debt    Net_Worth  \\\n",
       "0       0   42    62812.09301      11609.380910  238961.2505   \n",
       "1       0   41    66646.89292       9572.957136  530973.9078   \n",
       "2       1   43    53798.55112      11160.355060  638467.1773   \n",
       "3       1   58    79370.03798      14426.164850  548599.0524   \n",
       "4       1   57    59729.15130       5358.712177  560304.0671   \n",
       "\n",
       "   Car_Purchase_Amount  \n",
       "0          35321.45877  \n",
       "1          45115.52566  \n",
       "2          42925.70921  \n",
       "3          67422.36313  \n",
       "4          55915.46248  "
      ]
     },
     "execution_count": 61,
     "metadata": {},
     "output_type": "execute_result"
    }
   ],
   "source": [
    "df.head()"
   ]
  },
  {
   "cell_type": "code",
   "execution_count": 62,
   "id": "2ae16193",
   "metadata": {},
   "outputs": [],
   "source": [
    "LI = drop_outliers_LI(data['Age'])\n",
    "df.drop(df[df.Age<LI].index, axis=0, inplace=True)\n",
    "\n",
    "LS = drop_outliers_LS(data['Age'])\n",
    "df.drop(df[df.Age>LS].index, axis=0, inplace=True)"
   ]
  },
  {
   "cell_type": "code",
   "execution_count": 63,
   "id": "be48c07b",
   "metadata": {},
   "outputs": [],
   "source": [
    "LI = drop_outliers_LI(data['Annual_Salary'])\n",
    "df.drop(df[df.Annual_Salary<LI].index, axis=0, inplace=True)\n",
    "\n",
    "LS = drop_outliers_LS(data['Annual_Salary'])\n",
    "df.drop(df[df.Annual_Salary>LS].index, axis=0, inplace=True)"
   ]
  },
  {
   "cell_type": "code",
   "execution_count": 64,
   "id": "d5b0cdeb",
   "metadata": {},
   "outputs": [],
   "source": [
    "LI = drop_outliers_LI(data['Credit_Card_Debt'])\n",
    "df.drop(df[df.Credit_Card_Debt<LI].index, axis=0, inplace=True)\n",
    "\n",
    "LS = drop_outliers_LS(data['Credit_Card_Debt'])\n",
    "df.drop(df[df.Credit_Card_Debt>LS].index, axis=0, inplace=True)"
   ]
  },
  {
   "cell_type": "code",
   "execution_count": 65,
   "id": "ede5dc47",
   "metadata": {},
   "outputs": [],
   "source": [
    "LI = drop_outliers_LI(data['Car_Purchase_Amount'])\n",
    "df.drop(df[df.Car_Purchase_Amount<LI].index, axis=0, inplace=True)\n",
    "\n",
    "LS = drop_outliers_LS(data['Car_Purchase_Amount'])\n",
    "df.drop(df[df.Car_Purchase_Amount>LS].index, axis=0, inplace=True)"
   ]
  },
  {
   "cell_type": "code",
   "execution_count": 66,
   "id": "ed347b62",
   "metadata": {
    "scrolled": false
   },
   "outputs": [
    {
     "data": {
      "text/plain": [
       "<AxesSubplot:>"
      ]
     },
     "execution_count": 66,
     "metadata": {},
     "output_type": "execute_result"
    },
    {
     "data": {
      "image/png": "[encoded data removed]",
      "text/plain": [
       "<Figure size 720x432 with 2 Axes>"
      ]
     },
     "metadata": {
      "needs_background": "light"
     },
     "output_type": "display_data"
    }
   ],
   "source": [
    "heat_map(df)"
   ]
  },
  {
   "cell_type": "markdown",
   "id": "4d517926",
   "metadata": {},
   "source": [
    "O mapa de calor tem o objetivo de verificar quais variáveis disponíveis possuem uma maior correlação com a variável de interesse (Car_Purchase_Amount). Sendo assim, três delas foram escolhidas:\n",
    "\n",
    " * Age;\n",
    " * Annual_Salary;\n",
    " * Net_Worth."
   ]
  },
  {
   "cell_type": "markdown",
   "id": "7d6082f6",
   "metadata": {},
   "source": [
    "## Data Preparation"
   ]
  },
  {
   "cell_type": "code",
   "execution_count": 67,
   "id": "4c5aec1f",
   "metadata": {},
   "outputs": [],
   "source": [
    "x = df.drop(['Car_Purchase_Amount', 'Customer_Name', 'Customer_e-mail', 'Country', 'Gender', 'Credit_Card_Debt'], axis=1)\n",
    "\n",
    "y = df['Car_Purchase_Amount'].copy()"
   ]
  },
  {
   "cell_type": "code",
   "execution_count": 68,
   "id": "d281a15e",
   "metadata": {},
   "outputs": [],
   "source": [
    "x_train, x_test, y_train, y_test = ms.train_test_split(x, y, test_size=0.2, random_state=42)"
   ]
  },
  {
   "cell_type": "markdown",
   "id": "d8e05975",
   "metadata": {},
   "source": [
    "# Model Training "
   ]
  },
  {
   "cell_type": "code",
   "execution_count": 69,
   "id": "b02f4f4f",
   "metadata": {},
   "outputs": [
    {
     "data": {
      "text/plain": [
       "LinearRegression()"
      ]
     },
     "execution_count": 69,
     "metadata": {},
     "output_type": "execute_result"
    }
   ],
   "source": [
    "# Model description\n",
    "model_lr = lm.LinearRegression()\n",
    "\n",
    "\n",
    "# Model training\n",
    "model_lr.fit(x_train, y_train)"
   ]
  },
  {
   "cell_type": "code",
   "execution_count": 70,
   "id": "cd41d255",
   "metadata": {},
   "outputs": [],
   "source": [
    "# Prediction - train\n",
    "pred_train = model_lr.predict(x_train)\n",
    "\n",
    "# Prediction - test\n",
    "pred_test = model_lr.predict(x_test)"
   ]
  },
  {
   "cell_type": "markdown",
   "id": "0a8f25f1",
   "metadata": {},
   "source": [
    "## Performance Metrics"
   ]
  },
  {
   "cell_type": "code",
   "execution_count": 71,
   "id": "a642b7c4",
   "metadata": {},
   "outputs": [],
   "source": [
    "# MAE and MAPE - Train\n",
    "mae_train = m.mean_absolute_error(y_train, pred_train)\n",
    "\n",
    "mape_train = m.mean_absolute_percentage_error(y_train, pred_train)\n",
    "\n",
    "# MAE and MAPE - Test\n",
    "mae_test = m.mean_absolute_error(y_test, pred_test)\n",
    "\n",
    "mape_test = m.mean_absolute_percentage_error(y_test, pred_test)"
   ]
  },
  {
   "cell_type": "code",
   "execution_count": 72,
   "id": "f02f7086",
   "metadata": {},
   "outputs": [],
   "source": [
    "Performance_metrics = pd.DataFrame({'DataFrame': ['training', 'test'],\n",
    "                                    'MAE': [mae_train, mae_test],\n",
    "                                    'MAPE': [mape_train, mape_test]})"
   ]
  },
  {
   "cell_type": "code",
   "execution_count": 73,
   "id": "642d332b",
   "metadata": {},
   "outputs": [
    {
     "data": {
      "text/html": [
       "<div>\n",
       "<style scoped>\n",
       "    .dataframe tbody tr th:only-of-type {\n",
       "        vertical-align: middle;\n",
       "    }\n",
       "\n",
       "    .dataframe tbody tr th {\n",
       "        vertical-align: top;\n",
       "    }\n",
       "\n",
       "    .dataframe thead th {\n",
       "        text-align: right;\n",
       "    }\n",
       "</style>\n",
       "<table border=\"1\" class=\"dataframe\">\n",
       "  <thead>\n",
       "    <tr style=\"text-align: right;\">\n",
       "      <th></th>\n",
       "      <th>DataFrame</th>\n",
       "      <th>MAE</th>\n",
       "      <th>MAPE</th>\n",
       "    </tr>\n",
       "  </thead>\n",
       "  <tbody>\n",
       "    <tr>\n",
       "      <th>0</th>\n",
       "      <td>training</td>\n",
       "      <td>212.853900</td>\n",
       "      <td>0.005440</td>\n",
       "    </tr>\n",
       "    <tr>\n",
       "      <th>1</th>\n",
       "      <td>test</td>\n",
       "      <td>220.664434</td>\n",
       "      <td>0.005743</td>\n",
       "    </tr>\n",
       "  </tbody>\n",
       "</table>\n",
       "</div>"
      ],
      "text/plain": [
       "  DataFrame         MAE      MAPE\n",
       "0  training  212.853900  0.005440\n",
       "1      test  220.664434  0.005743"
      ]
     },
     "execution_count": 73,
     "metadata": {},
     "output_type": "execute_result"
    }
   ],
   "source": [
    "Performance_metrics"
   ]
  },
  {
   "cell_type": "code",
   "execution_count": 74,
   "id": "904d0717",
   "metadata": {},
   "outputs": [],
   "source": [
    "score_test = model_lr.score(x_test, y_test)"
   ]
  },
  {
   "cell_type": "code",
   "execution_count": 75,
   "id": "3df1fa72",
   "metadata": {},
   "outputs": [
    {
     "data": {
      "text/plain": [
       "0.9991295606907143"
      ]
     },
     "execution_count": 75,
     "metadata": {},
     "output_type": "execute_result"
    }
   ],
   "source": [
    "score_test"
   ]
  },
  {
   "cell_type": "markdown",
   "id": "d82d3062",
   "metadata": {},
   "source": [
    "O modelo possui um score de 99,91%"
   ]
  },
  {
   "cell_type": "code",
   "execution_count": 76,
   "id": "65768b47",
   "metadata": {},
   "outputs": [],
   "source": [
    "# Save trained model\n",
    "\n",
    "pickle.dump(model_lr, open('C:/Users/jvito/Repos - Python/Deploy/model_car_price.pkl', 'wb'))"
   ]
  },
  {
   "cell_type": "markdown",
   "id": "31c841a8",
   "metadata": {},
   "source": [
    "## Prediction"
   ]
  },
  {
   "cell_type": "code",
   "execution_count": 77,
   "id": "9310f22a",
   "metadata": {},
   "outputs": [],
   "source": [
    "df_predict = df.drop(['Car_Purchase_Amount', 'Customer_Name', 'Customer_e-mail', 'Country', 'Gender', 'Credit_Card_Debt'],  axis=1).sample()"
   ]
  },
  {
   "cell_type": "code",
   "execution_count": 78,
   "id": "23c0de26",
   "metadata": {},
   "outputs": [
    {
     "data": {
      "text/html": [
       "<div>\n",
       "<style scoped>\n",
       "    .dataframe tbody tr th:only-of-type {\n",
       "        vertical-align: middle;\n",
       "    }\n",
       "\n",
       "    .dataframe tbody tr th {\n",
       "        vertical-align: top;\n",
       "    }\n",
       "\n",
       "    .dataframe thead th {\n",
       "        text-align: right;\n",
       "    }\n",
       "</style>\n",
       "<table border=\"1\" class=\"dataframe\">\n",
       "  <thead>\n",
       "    <tr style=\"text-align: right;\">\n",
       "      <th></th>\n",
       "      <th>Age</th>\n",
       "      <th>Annual_Salary</th>\n",
       "      <th>Net_Worth</th>\n",
       "    </tr>\n",
       "  </thead>\n",
       "  <tbody>\n",
       "    <tr>\n",
       "      <th>166</th>\n",
       "      <td>36</td>\n",
       "      <td>52477.66494</td>\n",
       "      <td>97706.89181</td>\n",
       "    </tr>\n",
       "  </tbody>\n",
       "</table>\n",
       "</div>"
      ],
      "text/plain": [
       "     Age  Annual_Salary    Net_Worth\n",
       "166   36    52477.66494  97706.89181"
      ]
     },
     "execution_count": 78,
     "metadata": {},
     "output_type": "execute_result"
    }
   ],
   "source": [
    "df_predict"
   ]
  },
  {
   "cell_type": "code",
   "execution_count": 79,
   "id": "057f91a4",
   "metadata": {},
   "outputs": [],
   "source": [
    "df_predict_json = df_predict.to_json(orient='records')"
   ]
  },
  {
   "cell_type": "code",
   "execution_count": 80,
   "id": "e4a4a50a",
   "metadata": {},
   "outputs": [
    {
     "data": {
      "text/plain": [
       "'[{\"Age\":36,\"Annual_Salary\":52477.66494,\"Net_Worth\":97706.89181}]'"
      ]
     },
     "execution_count": 80,
     "metadata": {},
     "output_type": "execute_result"
    }
   ],
   "source": [
    "df_predict_json"
   ]
  },
  {
   "cell_type": "code",
   "execution_count": 84,
   "id": "61b9e280",
   "metadata": {},
   "outputs": [],
   "source": [
    "url = 'http://192.168.15.9:5000/predict'\n",
    "data = df_predict_json\n",
    "header = {'Content-type': 'application/json'}\n",
    "\n",
    "# Request\n",
    "r = requests.post(url=url, data=data, headers=header)"
   ]
  },
  {
   "cell_type": "code",
   "execution_count": 85,
   "id": "1f9f124b",
   "metadata": {},
   "outputs": [
    {
     "data": {
      "text/plain": [
       "<Response [200]>"
      ]
     },
     "execution_count": 85,
     "metadata": {},
     "output_type": "execute_result"
    }
   ],
   "source": [
    "r"
   ]
  },
  {
   "cell_type": "code",
   "execution_count": 83,
   "id": "c4adf436",
   "metadata": {},
   "outputs": [
    {
     "data": {
      "text/html": [
       "<div>\n",
       "<style scoped>\n",
       "    .dataframe tbody tr th:only-of-type {\n",
       "        vertical-align: middle;\n",
       "    }\n",
       "\n",
       "    .dataframe tbody tr th {\n",
       "        vertical-align: top;\n",
       "    }\n",
       "\n",
       "    .dataframe thead th {\n",
       "        text-align: right;\n",
       "    }\n",
       "</style>\n",
       "<table border=\"1\" class=\"dataframe\">\n",
       "  <thead>\n",
       "    <tr style=\"text-align: right;\">\n",
       "      <th></th>\n",
       "      <th>Age</th>\n",
       "      <th>Annual_Salary</th>\n",
       "      <th>Net_Worth</th>\n",
       "      <th>predction</th>\n",
       "    </tr>\n",
       "  </thead>\n",
       "  <tbody>\n",
       "    <tr>\n",
       "      <th>0</th>\n",
       "      <td>36</td>\n",
       "      <td>52477.66494</td>\n",
       "      <td>97706.89181</td>\n",
       "      <td>20551.392561</td>\n",
       "    </tr>\n",
       "  </tbody>\n",
       "</table>\n",
       "</div>"
      ],
      "text/plain": [
       "   Age  Annual_Salary    Net_Worth     predction\n",
       "0   36    52477.66494  97706.89181  20551.392561"
      ]
     },
     "execution_count": 83,
     "metadata": {},
     "output_type": "execute_result"
    }
   ],
   "source": [
    "pd.DataFrame(r.json(), columns=r.json()[0].keys())"
   ]
  }
 ],
 "metadata": {
  "kernelspec": {
   "display_name": "Python 3 (ipykernel)",
   "language": "python",
   "name": "python3"
  },
  "language_info": {
   "codemirror_mode": {
    "name": "ipython",
    "version": 3
   },
   "file_extension": ".py",
   "mimetype": "text/x-python",
   "name": "python",
   "nbconvert_exporter": "python",
   "pygments_lexer": "ipython3",
   "version": "3.9.7"
  },
  "varInspector": {
   "cols": {
    "lenName": 16,
    "lenType": 16,
    "lenVar": 40
   },
   "kernels_config": {
    "python": {
     "delete_cmd_postfix": "",
     "delete_cmd_prefix": "del ",
     "library": "var_list.py",
     "varRefreshCmd": "print(var_dic_list())"
    },
    "r": {
     "delete_cmd_postfix": ") ",
     "delete_cmd_prefix": "rm(",
     "library": "var_list.r",
     "varRefreshCmd": "cat(var_dic_list()) "
    }
   },
   "types_to_exclude": [
    "module",
    "function",
    "builtin_function_or_method",
    "instance",
    "_Feature"
   ],
   "window_display": false
  }
 },
 "nbformat": 4,
 "nbformat_minor": 5
}
