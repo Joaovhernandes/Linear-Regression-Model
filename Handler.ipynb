{
 "cells": [
  {
   "cell_type": "code",
   "execution_count": 2,
   "id": "afdd499b",
   "metadata": {
    "collapsed": true
   },
   "outputs": [
    {
     "name": "stdout",
     "output_type": "stream",
     "text": [
      " * Serving Flask app \"__main__\" (lazy loading)\n",
      " * Environment: production\n",
      "\u001b[31m   WARNING: This is a development server. Do not use it in a production deployment.\u001b[0m\n",
      "\u001b[2m   Use a production WSGI server instead.\u001b[0m\n",
      " * Debug mode: off\n"
     ]
    },
    {
     "name": "stderr",
     "output_type": "stream",
     "text": [
      " * Running on http://192.168.15.9:5000/ (Press CTRL+C to quit)\n",
      "192.168.15.9 - - [25/Mar/2022 16:01:52] \"POST /predict HTTP/1.1\" 200 -\n",
      "192.168.15.9 - - [25/Mar/2022 16:16:15] \"POST /predict HTTP/1.1\" 200 -\n",
      "[2022-03-25 16:37:21,424] ERROR in app: Exception on /predict [POST]\n",
      "Traceback (most recent call last):\n",
      "  File \"C:\\Users\\jvito\\anaconda3\\lib\\site-packages\\flask\\app.py\", line 2447, in wsgi_app\n",
      "    response = self.full_dispatch_request()\n",
      "  File \"C:\\Users\\jvito\\anaconda3\\lib\\site-packages\\flask\\app.py\", line 1952, in full_dispatch_request\n",
      "    rv = self.handle_user_exception(e)\n",
      "  File \"C:\\Users\\jvito\\anaconda3\\lib\\site-packages\\flask\\app.py\", line 1821, in handle_user_exception\n",
      "    reraise(exc_type, exc_value, tb)\n",
      "  File \"C:\\Users\\jvito\\anaconda3\\lib\\site-packages\\flask\\_compat.py\", line 39, in reraise\n",
      "    raise value\n",
      "  File \"C:\\Users\\jvito\\anaconda3\\lib\\site-packages\\flask\\app.py\", line 1950, in full_dispatch_request\n",
      "    rv = self.dispatch_request()\n",
      "  File \"C:\\Users\\jvito\\anaconda3\\lib\\site-packages\\flask\\app.py\", line 1936, in dispatch_request\n",
      "    return self.view_functions[rule.endpoint](**req.view_args)\n",
      "  File \"C:\\Users\\jvito\\AppData\\Local\\Temp/ipykernel_8660/1402536718.py\", line 25, in predict\n",
      "    pred = model.predict(df_raw)\n",
      "UnboundLocalError: local variable 'df_raw' referenced before assignment\n",
      "192.168.15.9 - - [25/Mar/2022 16:37:21] \"POST /predict HTTP/1.1\" 500 -\n",
      "[2022-03-25 16:37:42,921] ERROR in app: Exception on /predict [POST]\n",
      "Traceback (most recent call last):\n",
      "  File \"C:\\Users\\jvito\\anaconda3\\lib\\site-packages\\flask\\app.py\", line 2447, in wsgi_app\n",
      "    response = self.full_dispatch_request()\n",
      "  File \"C:\\Users\\jvito\\anaconda3\\lib\\site-packages\\flask\\app.py\", line 1952, in full_dispatch_request\n",
      "    rv = self.handle_user_exception(e)\n",
      "  File \"C:\\Users\\jvito\\anaconda3\\lib\\site-packages\\flask\\app.py\", line 1821, in handle_user_exception\n",
      "    reraise(exc_type, exc_value, tb)\n",
      "  File \"C:\\Users\\jvito\\anaconda3\\lib\\site-packages\\flask\\_compat.py\", line 39, in reraise\n",
      "    raise value\n",
      "  File \"C:\\Users\\jvito\\anaconda3\\lib\\site-packages\\flask\\app.py\", line 1950, in full_dispatch_request\n",
      "    rv = self.dispatch_request()\n",
      "  File \"C:\\Users\\jvito\\anaconda3\\lib\\site-packages\\flask\\app.py\", line 1936, in dispatch_request\n",
      "    return self.view_functions[rule.endpoint](**req.view_args)\n",
      "  File \"C:\\Users\\jvito\\AppData\\Local\\Temp/ipykernel_8660/1402536718.py\", line 25, in predict\n",
      "    pred = model.predict(df_raw)\n",
      "UnboundLocalError: local variable 'df_raw' referenced before assignment\n",
      "192.168.15.9 - - [25/Mar/2022 16:37:42] \"POST /predict HTTP/1.1\" 500 -\n",
      "192.168.15.9 - - [25/Mar/2022 16:38:34] \"POST /predict HTTP/1.1\" 200 -\n",
      "[2022-03-25 16:40:28,296] ERROR in app: Exception on /predict [POST]\n",
      "Traceback (most recent call last):\n",
      "  File \"C:\\Users\\jvito\\anaconda3\\lib\\site-packages\\flask\\app.py\", line 2447, in wsgi_app\n",
      "    response = self.full_dispatch_request()\n",
      "  File \"C:\\Users\\jvito\\anaconda3\\lib\\site-packages\\flask\\app.py\", line 1952, in full_dispatch_request\n",
      "    rv = self.handle_user_exception(e)\n",
      "  File \"C:\\Users\\jvito\\anaconda3\\lib\\site-packages\\flask\\app.py\", line 1821, in handle_user_exception\n",
      "    reraise(exc_type, exc_value, tb)\n",
      "  File \"C:\\Users\\jvito\\anaconda3\\lib\\site-packages\\flask\\_compat.py\", line 39, in reraise\n",
      "    raise value\n",
      "  File \"C:\\Users\\jvito\\anaconda3\\lib\\site-packages\\flask\\app.py\", line 1950, in full_dispatch_request\n",
      "    rv = self.dispatch_request()\n",
      "  File \"C:\\Users\\jvito\\anaconda3\\lib\\site-packages\\flask\\app.py\", line 1936, in dispatch_request\n",
      "    return self.view_functions[rule.endpoint](**req.view_args)\n",
      "  File \"C:\\Users\\jvito\\AppData\\Local\\Temp/ipykernel_8660/1402536718.py\", line 25, in predict\n",
      "    pred = model.predict(df_raw)\n",
      "UnboundLocalError: local variable 'df_raw' referenced before assignment\n",
      "192.168.15.9 - - [25/Mar/2022 16:40:28] \"POST /predict HTTP/1.1\" 500 -\n",
      "192.168.15.9 - - [25/Mar/2022 16:44:02] \"POST /predict HTTP/1.1\" 200 -\n"
     ]
    }
   ],
   "source": [
    "import pickle\n",
    "import pandas as pd\n",
    "from flask import Flask, request\n",
    "\n",
    "\n",
    "# load model\n",
    "model = pickle.load(open('C:/Users/jvito/Repos - Python/Deploy/model_car_price.pkl', 'rb'))\n",
    "\n",
    "# instance flask\n",
    "app = Flask(__name__)\n",
    "\n",
    "@app.route('/predict', methods=['POST']) # o método pode ser POST (passar os dados) ou GET (recuperar os dados)\n",
    "def predict():\n",
    "    test_json = request.get_json()\n",
    "    \n",
    "    # collect data\n",
    "    if test_json:\n",
    "        if isinstance(test_json, dict): #unique value\n",
    "            df_raw = pd.DataFrame (test_json, index=[0])\n",
    "        else:\n",
    "            df_raw = pd.DataFrame (test_json, columns=test_json[0].keys())\n",
    "            \n",
    "    \n",
    "    # prediction\n",
    "    pred = model.predict(df_raw)\n",
    "    \n",
    "    df_raw['predction'] = pred\n",
    "    \n",
    "    return df_raw.to_json(orient='records')\n",
    "\n",
    "if __name__ == '__main__':\n",
    "    # start flask\n",
    "    app.run(host='192.168.15.9', port=5000)"
   ]
  },
  {
   "cell_type": "code",
   "execution_count": null,
   "id": "ff9c4628",
   "metadata": {},
   "outputs": [],
   "source": []
  }
 ],
 "metadata": {
  "kernelspec": {
   "display_name": "Python 3 (ipykernel)",
   "language": "python",
   "name": "python3"
  },
  "language_info": {
   "codemirror_mode": {
    "name": "ipython",
    "version": 3
   },
   "file_extension": ".py",
   "mimetype": "text/x-python",
   "name": "python",
   "nbconvert_exporter": "python",
   "pygments_lexer": "ipython3",
   "version": "3.9.7"
  },
  "varInspector": {
   "cols": {
    "lenName": 16,
    "lenType": 16,
    "lenVar": 40
   },
   "kernels_config": {
    "python": {
     "delete_cmd_postfix": "",
     "delete_cmd_prefix": "del ",
     "library": "var_list.py",
     "varRefreshCmd": "print(var_dic_list())"
    },
    "r": {
     "delete_cmd_postfix": ") ",
     "delete_cmd_prefix": "rm(",
     "library": "var_list.r",
     "varRefreshCmd": "cat(var_dic_list()) "
    }
   },
   "types_to_exclude": [
    "module",
    "function",
    "builtin_function_or_method",
    "instance",
    "_Feature"
   ],
   "window_display": false
  }
 },
 "nbformat": 4,
 "nbformat_minor": 5
}
